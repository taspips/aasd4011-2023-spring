{
 "cells": [
  {
   "attachments": {},
   "cell_type": "markdown",
   "metadata": {},
   "source": [
    "In this notebook we are looking into optimizing a linear regressor (a single linear neuron) using gradient descent. \n",
    "The key takeaways are:\n",
    "\n",
    "Conceptual:\n",
    "1. Be able to explain what a gradient descent in two dimensions is.\n",
    "2. Be able to explain the main components of a deep learning optimization workflow:\n",
    "    - Obtaining and exploring the data\n",
    "    - Setting up a model\n",
    "    - Setting up a loss function\n",
    "    - Choosing an optimizer and its parameters (e.g. learning rate)\n",
    "    - Running a training-loop\n",
    "    - Evaluating the performance using success metrices (e.g. accuracy) on a validation and test sets (this is not part of this notebook)\n",
    "\n",
    "Technical:\n",
    "1. Gain experience with tensor-indexing and tensor arithmetic; Know how to use `matmul`.\n",
    "2. Explain the concepts and be able to hand-code them: \n",
    "    - weights\n",
    "    - linear nodes/neurons\n",
    "    - forward-pass (predict)\n",
    "    - loss-function\n",
    "    - gradient descent and learning rate\n",
    "    - training loop\n",
    "3. Get acquainted with exploring the data, numerically and by using Matplotlib. Be able to use Matplotlib to run the required visualization."
   ]
  },
  {
   "cell_type": "code",
   "execution_count": 1,
   "metadata": {},
   "outputs": [],
   "source": [
    "import torch\n",
    "import matplotlib.pyplot as plt\n",
    "import helpers as h\n",
    "from math import floor, ceil"
   ]
  },
  {
   "cell_type": "code",
   "execution_count": 2,
   "metadata": {},
   "outputs": [
    {
     "data": {
      "text/plain": [
       "<torch._C.Generator at 0x1d849a005d0>"
      ]
     },
     "execution_count": 2,
     "metadata": {},
     "output_type": "execute_result"
    }
   ],
   "source": [
    "torch.manual_seed(42)"
   ]
  },
  {
   "attachments": {},
   "cell_type": "markdown",
   "metadata": {},
   "source": [
    "### Setting the Data"
   ]
  },
  {
   "cell_type": "code",
   "execution_count": 3,
   "metadata": {},
   "outputs": [],
   "source": [
    "NUMBER_OF_DATA_POINTS = 4\n",
    "X_RANGE = {\n",
    "    'min': 0,\n",
    "    'max': 2\n",
    "}\n",
    "SLOPE = 3\n",
    "INTERCEPT = 4\n",
    "NOISE_RANGE = 1.5\n",
    "m = NUMBER_OF_DATA_POINTS  # the number of instances\n",
    "\n",
    "def generate_data(\n",
    "    x_range:dict[str, str]=X_RANGE,\n",
    "    number_of_data_points:int=NUMBER_OF_DATA_POINTS,\n",
    "    slope:float=SLOPE,\n",
    "    intercept:float=INTERCEPT,\n",
    "    noise_range:float=NOISE_RANGE\n",
    "    ) -> tuple[torch.Tensor, torch.Tensor]:\n",
    "    \"\"\"\n",
    "    Generates data for linear regression.\n",
    "    \"\"\"\n",
    "    range = X_RANGE['max'] - X_RANGE['min']\n",
    "    X = x_range['min'] + (range * torch.rand(size=(number_of_data_points, 1)))  # randomly-generated x-values, taken from a uniform distribution within `x_range`\n",
    "    y = intercept + (slope * X) + (((torch.rand(size=(number_of_data_points, 1)) - 0.5) * 2) * noise_range)  # y-values with uniformly distributed noise added\n",
    "    return X, y\n",
    "\n",
    "def calculate_y_range(\n",
    "    x_range:dict[str, str]=X_RANGE,\n",
    "    slope:float=SLOPE,\n",
    "    intercept:float=INTERCEPT,\n",
    "    noise_range:float=NOISE_RANGE,\n",
    "    ) -> float:\n",
    "    \"\"\"\n",
    "    Calculates the maximum y-value for a given x-range, taking into account the maximum noise.\n",
    "    \"\"\"\n",
    "    y_range = {}\n",
    "    if slope >= 0:\n",
    "        y_range['min'] = intercept + (slope * x_range['min']) - noise_range\n",
    "        y_range['max'] = intercept + (slope * x_range['max']) + noise_range\n",
    "    elif slope < 0:\n",
    "        y_range['min'] = intercept + (slope * x_range['min']) + noise_range\n",
    "        y_range['max'] = intercept + (slope * x_range['max']) - noise_range\n",
    "    return y_range\n",
    "\n",
    "X, y = generate_data()\n",
    "y_range = calculate_y_range()"
   ]
  },
  {
   "cell_type": "code",
   "execution_count": 4,
   "metadata": {},
   "outputs": [
    {
     "name": "stdout",
     "output_type": "stream",
     "text": [
      "tensor([[1.7645],\n",
      "        [1.8300],\n",
      "        [0.7657],\n",
      "        [1.9186]])\n",
      "Dimension    2\n",
      "Shape        (4, 1)\n"
     ]
    }
   ],
   "source": [
    "h.print_tensor_info(X, fields=['Tensor', 'Dimension', 'Shape'])"
   ]
  },
  {
   "attachments": {},
   "cell_type": "markdown",
   "metadata": {},
   "source": [
    "The many PyTorch (and Tensorflow) functions expect their input to be in the shape of (batch_size, features). Note that above `X` was defined accordingly. The number of data points (also called _instances_ or _data instances_), is generally always on the 0th dimension. "
   ]
  },
  {
   "cell_type": "code",
   "execution_count": 5,
   "metadata": {},
   "outputs": [
    {
     "name": "stdout",
     "output_type": "stream",
     "text": [
      "tensor([[ 8.9650],\n",
      "        [ 9.7927],\n",
      "        [ 5.5669],\n",
      "        [10.6368]])\n",
      "Dimension    2\n",
      "Shape        (4, 1)\n"
     ]
    }
   ],
   "source": [
    "h.print_tensor_info(y, fields=['Tensor', 'Dimension', 'Shape'])"
   ]
  },
  {
   "cell_type": "code",
   "execution_count": 6,
   "metadata": {},
   "outputs": [
    {
     "data": {
      "image/png": "[encoded data removed]",
      "text/plain": [
       "<Figure size 640x480 with 1 Axes>"
      ]
     },
     "metadata": {},
     "output_type": "display_data"
    }
   ],
   "source": [
    "def plot_data_points(X, y):\n",
    "    plt.plot(X, y, \"b.\")\n",
    "    plt.xlabel(\"$x_1$\")\n",
    "    plt.ylabel(\"$y$\", rotation=0)\n",
    "    plt.title(\"Data Points (instances)\")\n",
    "    plt.axis([X_RANGE['min'], X_RANGE['max'], floor(y_range['min']), ceil(y_range['max'])])\n",
    "    plt.grid()\n",
    "    plt.show()\n",
    "    return\n",
    "\n",
    "plot_data_points(X, y)"
   ]
  },
  {
   "attachments": {},
   "cell_type": "markdown",
   "metadata": {},
   "source": [
    "### Preprocessing the Data\n",
    "\n",
    "Now we are adding a dummy input parameter, that is equal to one for all instances: $x_0=1$.\n",
    "This will allow us to use a single matrix multiplication for the equation $y =  w_0*1 + w_1*x_1$. It  is the generic form of a 1-dimensional linear equation. \n",
    "\n",
    "(for additional optional context, see: [scikit-learn](https://scikit-learn.org/stable/modules/generated/sklearn.preprocessing.add_dummy_feature.html))"
   ]
  },
  {
   "cell_type": "code",
   "execution_count": 9,
   "metadata": {},
   "outputs": [],
   "source": [
    "X_extended = torch.cat((torch.full(size=X.shape, fill_value=1), X), dim=1)"
   ]
  },
  {
   "cell_type": "code",
   "execution_count": 10,
   "metadata": {},
   "outputs": [
    {
     "name": "stdout",
     "output_type": "stream",
     "text": [
      "tensor([[1.0000, 1.7645],\n",
      "        [1.0000, 1.8300],\n",
      "        [1.0000, 0.7657],\n",
      "        [1.0000, 1.9186]])\n",
      "Dimension    2\n",
      "Shape        (4, 2)\n"
     ]
    }
   ],
   "source": [
    "h.print_tensor_info(X_extended, fields=['Tensor', 'Dimension', 'Shape'])"
   ]
  },
  {
   "attachments": {},
   "cell_type": "markdown",
   "metadata": {},
   "source": [
    "### Defining the Model\n",
    "With this form of input we can define the parameters: $w_0$ and $w_1$.\n",
    "The equation is $y = w_0*x_0 + w_1*x_1$, or in a matrix notation: $y = X @ W$.\n",
    "It might be helpful to write with PyTorch. "
   ]
  },
  {
   "cell_type": "code",
   "execution_count": 11,
   "metadata": {},
   "outputs": [],
   "source": [
    "def model(X, W):\n",
    "    return X @ W"
   ]
  },
  {
   "attachments": {},
   "cell_type": "markdown",
   "metadata": {},
   "source": [
    "Let's assign values to our parameters, $W$"
   ]
  },
  {
   "cell_type": "code",
   "execution_count": 12,
   "metadata": {},
   "outputs": [],
   "source": [
    "W = torch.tensor([[1.], [2.]])  \n",
    "# The common practice is to set the parameters randomly. \n",
    "# Here we manually set them to 1 and 2.\n",
    "# TODO (for interested students) change the above to a random initialization, and see what happens.\n",
    "# Then change it to a zero initialization, and see what happens.\n",
    "# Lastly, try setting it to the mean of the y values, with zero slope."
   ]
  },
  {
   "cell_type": "code",
   "execution_count": 13,
   "metadata": {},
   "outputs": [
    {
     "name": "stdout",
     "output_type": "stream",
     "text": [
      "tensor([[1.],\n",
      "        [2.]])\n",
      "Dimension    2\n",
      "Shape        (2, 1)\n"
     ]
    }
   ],
   "source": [
    "h.print_tensor_info(W, fields=['Tensor', 'Dimension', 'Shape'])"
   ]
  },
  {
   "cell_type": "code",
   "execution_count": 14,
   "metadata": {},
   "outputs": [],
   "source": [
    "def predict(X: torch.Tensor, W: torch.Tensor, is_preprocessed=False) -> torch.Tensor:\n",
    "    \"\"\"\n",
    "    Calculates the value of a linear function with parameters W at points X.\n",
    "\n",
    "    X: torch tensor of shape (number_of_points_to_predict, 1)\n",
    "    W: torch tensor of shape (2, 1)\n",
    "    return: torch tensor of shape (number_of_points_to_predict, 1)\n",
    "\n",
    "    \"\"\"\n",
    "    if is_preprocessed:\n",
    "        X_extended = X\n",
    "    else:\n",
    "        X_extended = torch.cat((torch.full(X.shape, 1), X), 1)  # preprocess\n",
    "    y_predicted = model(X_extended, W)\n",
    "    return y_predicted"
   ]
  },
  {
   "cell_type": "code",
   "execution_count": 15,
   "metadata": {},
   "outputs": [],
   "source": [
    "y_predicted = predict(X_extended, W, is_preprocessed=True)"
   ]
  },
  {
   "cell_type": "code",
   "execution_count": 16,
   "metadata": {},
   "outputs": [
    {
     "name": "stdout",
     "output_type": "stream",
     "text": [
      "tensor([[4.5291],\n",
      "        [4.6600],\n",
      "        [2.5315],\n",
      "        [4.8372]])\n",
      "Dimension    2\n",
      "Shape        (4, 1)\n"
     ]
    }
   ],
   "source": [
    "h.print_tensor_info(y_predicted, fields=['Tensor', 'Dimension', 'Shape'])"
   ]
  },
  {
   "cell_type": "code",
   "execution_count": 17,
   "metadata": {},
   "outputs": [
    {
     "data": {
      "image/png": "[encoded data removed]",
      "text/plain": [
       "<Figure size 640x480 with 1 Axes>"
      ]
     },
     "metadata": {},
     "output_type": "display_data"
    }
   ],
   "source": [
    "plot_data_points(X, y_predicted)"
   ]
  },
  {
   "cell_type": "markdown",
   "metadata": {},
   "source": [
    "Let's plot the data points and the predictions (based on the initial $W$) on the same graph: "
   ]
  },
  {
   "cell_type": "code",
   "execution_count": 18,
   "metadata": {},
   "outputs": [
    {
     "data": {
      "image/png": "[encoded data removed]",
      "text/plain": [
       "<Figure size 640x480 with 1 Axes>"
      ]
     },
     "metadata": {},
     "output_type": "display_data"
    }
   ],
   "source": [
    "plt.plot(X, y_predicted, \"r.\", label=\"Predictions\")\n",
    "plt.plot(X, y, \"b.\", label=\"Data\")\n",
    "\n",
    "plt.xlabel(\"$x_1$\")\n",
    "plt.ylabel(\"$y$\", rotation=0)\n",
    "plt.axis([0, 2, 0, 15])\n",
    "plt.grid()\n",
    "plt.legend(loc=\"upper left\")\n",
    "\n",
    "plt.show()"
   ]
  },
  {
   "attachments": {},
   "cell_type": "markdown",
   "metadata": {},
   "source": [
    "### Setting up a Loss Function\n",
    "A loss-function defines the value to be optimized (minimized)."
   ]
  },
  {
   "attachments": {},
   "cell_type": "markdown",
   "metadata": {},
   "source": [
    "The loss function we are going to use is the mean squared error (MSE):\n",
    "\n",
    "$L=\\frac{1}{m}*\\sum_{n=1} ^{m} (y_{predicted, n} - y_n)^2$"
   ]
  },
  {
   "attachments": {},
   "cell_type": "markdown",
   "metadata": {},
   "source": [
    "Question: what is the difference between a MSE and Mean Absolute Error (MAE)? When would we use each? Will using MAE instead of MSE make a difference in the case of linear regression?"
   ]
  },
  {
   "cell_type": "code",
   "execution_count": 19,
   "metadata": {},
   "outputs": [],
   "source": [
    "def loss(y_predicted, y):\n",
    "    mse = ((y_predicted - y) ** 2).mean()  # mean squared error. This is equivalent to: torch.sum((y_predicted - y)**2)/y.numel()\n",
    "    return mse"
   ]
  },
  {
   "cell_type": "code",
   "execution_count": 20,
   "metadata": {},
   "outputs": [
    {
     "name": "stdout",
     "output_type": "stream",
     "text": [
      "Squared error per instance:\n",
      "tensor([[19.6771],\n",
      "        [26.3445],\n",
      "        [ 9.2139],\n",
      "        [33.6346]])\n"
     ]
    }
   ],
   "source": [
    "# First, demonstrating the calculation of the loss for each instance:\n",
    "print('Squared error per instance:')\n",
    "print((y_predicted - y)**2)"
   ]
  },
  {
   "cell_type": "code",
   "execution_count": 21,
   "metadata": {},
   "outputs": [
    {
     "name": "stdout",
     "output_type": "stream",
     "text": [
      "MSE: 22.22\n"
     ]
    }
   ],
   "source": [
    "mse = torch.sum((y_predicted - y)**2)/y.numel()\n",
    "print(f'MSE: {mse:.4}')"
   ]
  },
  {
   "cell_type": "code",
   "execution_count": 22,
   "metadata": {},
   "outputs": [
    {
     "name": "stdout",
     "output_type": "stream",
     "text": [
      "MSE: 22.22\n"
     ]
    }
   ],
   "source": [
    "mse = loss(y_predicted, y)\n",
    "print(f'MSE: {mse:.4}')"
   ]
  },
  {
   "attachments": {},
   "cell_type": "markdown",
   "metadata": {},
   "source": [
    "### Optimization\n",
    "Next we can manually calculate the derivative and use it for gradient descent"
   ]
  },
  {
   "attachments": {},
   "cell_type": "markdown",
   "metadata": {},
   "source": [
    "The cost function per instance is: $(w0 + w_1*x_1 - y)^2$\n",
    "There are two partial derivatives for this equation, one for each of the two parameters:\n",
    "\n",
    "$\\frac{\\partial(F)}{\\partial(w_0)} = 2*(w0 + w_1*x_1 - y)$\n",
    "\n",
    "$\\frac{\\partial(F)}{\\partial(w_1)} = 2*(w0 + w_1*x_1 - y)*x_1$"
   ]
  },
  {
   "attachments": {},
   "cell_type": "markdown",
   "metadata": {},
   "source": [
    "Let's look at these equations to gain some intution. The difference between the two is the multiplciation by $x_1$ for $\\frac{\\partial(f)}{\\partial(w_1)}$ but not for $\\frac{\\partial(f)}{\\partial(w_0)}$. This make intuitive sense, given that as $x_1$ is larger, a change in the slope ($w_1$) would have a larger effect on `y_predicted`. A change in `w_1` for larger `x_1` results in a larger difference in the loss function value compared to a smaller `x_1`. \n",
    "\n",
    "On the other hand, a change in `w_0` will have the same effect on the loss function value, regardless of the data (`x_1`).\n",
    "\n",
    "This is what the gradient tell us."
   ]
  },
  {
   "cell_type": "code",
   "execution_count": 24,
   "metadata": {},
   "outputs": [],
   "source": [
    "# calculating the gradient:\n",
    "d_w0 = 2*(X_extended @ W - y)\n",
    "d_w1 = 2*(X_extended @ W - y) * X_extended[:, 1].reshape(-1, 1)"
   ]
  },
  {
   "cell_type": "code",
   "execution_count": 29,
   "metadata": {},
   "outputs": [
    {
     "data": {
      "text/plain": [
       "tensor([[ -8.8718],\n",
       "        [-10.2654],\n",
       "        [ -6.0709],\n",
       "        [-11.5991]])"
      ]
     },
     "execution_count": 29,
     "metadata": {},
     "output_type": "execute_result"
    }
   ],
   "source": [
    "d_w0"
   ]
  },
  {
   "cell_type": "code",
   "execution_count": 30,
   "metadata": {},
   "outputs": [
    {
     "data": {
      "text/plain": [
       "tensor([[-15.6546],\n",
       "        [-18.7857],\n",
       "        [ -4.6486],\n",
       "        [-22.2541]])"
      ]
     },
     "execution_count": 30,
     "metadata": {},
     "output_type": "execute_result"
    }
   ],
   "source": [
    "d_w1"
   ]
  },
  {
   "attachments": {},
   "cell_type": "markdown",
   "metadata": {},
   "source": [
    "And the _mean_ partial derivative over all instances is:"
   ]
  },
  {
   "cell_type": "code",
   "execution_count": 31,
   "metadata": {},
   "outputs": [
    {
     "name": "stdout",
     "output_type": "stream",
     "text": [
      "d_w0_mean: -9.202\n",
      "d_w1_mean: -15.34\n"
     ]
    }
   ],
   "source": [
    "d_w0_mean = torch.mean(d_w0)\n",
    "d_w1_mean = torch.mean(d_w1)\n",
    "print(f'd_w0_mean: {d_w0_mean:.4}')\n",
    "print(f'd_w1_mean: {d_w1_mean:.4}')"
   ]
  },
  {
   "attachments": {},
   "cell_type": "markdown",
   "metadata": {},
   "source": [
    "Notice that the gradient points to the direction of maximum increase of the loss function. And since the loss needs to be minimized, the direction that should be taken to minimize the function is opposite to the direction of the gradient. So the direction of gradient descent is opposite to the direction of the gradient. "
   ]
  },
  {
   "attachments": {},
   "cell_type": "markdown",
   "metadata": {},
   "source": [
    "Now we can define a learning rate, which is a multiplier of the gradient:"
   ]
  },
  {
   "cell_type": "code",
   "execution_count": 32,
   "metadata": {},
   "outputs": [
    {
     "name": "stdout",
     "output_type": "stream",
     "text": [
      "Learning Rate: 0.02\n"
     ]
    }
   ],
   "source": [
    "lr = 0.02\n",
    "print(f'Learning Rate: {lr:.4}')"
   ]
  },
  {
   "attachments": {},
   "cell_type": "markdown",
   "metadata": {},
   "source": [
    "Let's run the first iteration, and take a look at the value of the parameters."
   ]
  },
  {
   "cell_type": "code",
   "execution_count": 33,
   "metadata": {},
   "outputs": [],
   "source": [
    "# TODO: (for students) Here we want to simply print W before and after applying the gradients.model\n",
    "# For this, we need to define W_new by _cloning_ the original W. \n",
    "# why is this necessary? Can you explain? \n",
    "# More precisely, what is the difference between `W_new = W`` and `W_new = W.clone()`?\n",
    "W_new = W.clone()"
   ]
  },
  {
   "cell_type": "code",
   "execution_count": 34,
   "metadata": {},
   "outputs": [
    {
     "name": "stdout",
     "output_type": "stream",
     "text": [
      "tensor([[1.],\n",
      "        [2.]])\n",
      "tensor([[1.1840],\n",
      "        [2.3067]])\n"
     ]
    }
   ],
   "source": [
    "W_new[0] = W_new[0] - lr * d_w0_mean\n",
    "W_new[1] = W_new[1] - lr * d_w1_mean\n",
    "print(W)\n",
    "print(W_new)"
   ]
  },
  {
   "cell_type": "code",
   "execution_count": 35,
   "metadata": {},
   "outputs": [],
   "source": [
    "y_predicted = predict(X_extended, W_new, is_preprocessed=True)"
   ]
  },
  {
   "cell_type": "code",
   "execution_count": 36,
   "metadata": {},
   "outputs": [
    {
     "data": {
      "image/png": "[encoded data removed]",
      "text/plain": [
       "<Figure size 640x480 with 1 Axes>"
      ]
     },
     "metadata": {},
     "output_type": "display_data"
    }
   ],
   "source": [
    "plt.plot(X, y_predicted, \"r.\", label=\"Predictions\")\n",
    "plt.plot(X, y, \"b.\", label=\"Data\")\n",
    "\n",
    "plt.xlabel(\"$x_1$\")\n",
    "plt.ylabel(\"$y$\", rotation=0)\n",
    "plt.axis([0, 2, 0, 15])\n",
    "plt.grid()\n",
    "plt.legend(loc=\"upper left\")\n",
    "\n",
    "plt.show()"
   ]
  },
  {
   "attachments": {},
   "cell_type": "markdown",
   "metadata": {},
   "source": [
    "Now let's run multiple iterations of this gradient-descent optimization process."
   ]
  },
  {
   "cell_type": "code",
   "execution_count": 37,
   "metadata": {},
   "outputs": [
    {
     "name": "stdout",
     "output_type": "stream",
     "text": [
      "Epoch 0: MSE: 22.22 W_0: 1.184 W_1: 2.307\n",
      "Epoch 1: MSE: 16.28 W_0: 1.341 W_1: 2.569\n",
      "Epoch 2: MSE: 11.94 W_0: 1.476 W_1: 2.793\n",
      "Epoch 3: MSE: 8.772 W_0: 1.591 W_1: 2.985\n",
      "Epoch 4: MSE: 6.452 W_0: 1.69 W_1: 3.149\n",
      "Epoch 5: MSE: 4.756 W_0: 1.774 W_1: 3.289\n",
      "Epoch 6: MSE: 3.516 W_0: 1.846 W_1: 3.409\n",
      "Epoch 7: MSE: 2.609 W_0: 1.908 W_1: 3.511\n",
      "Epoch 8: MSE: 1.945 W_0: 1.961 W_1: 3.599\n",
      "Epoch 9: MSE: 1.46 W_0: 2.006 W_1: 3.674\n",
      "Epoch 10: MSE: 1.106 W_0: 2.045 W_1: 3.738\n",
      "Epoch 11: MSE: 0.8465 W_0: 2.078 W_1: 3.792\n",
      "Epoch 12: MSE: 0.6569 W_0: 2.106 W_1: 3.839\n",
      "Epoch 13: MSE: 0.5182 W_0: 2.131 W_1: 3.879\n",
      "Epoch 14: MSE: 0.4168 W_0: 2.151 W_1: 3.913\n",
      "Epoch 15: MSE: 0.3427 W_0: 2.169 W_1: 3.942\n",
      "Epoch 16: MSE: 0.2885 W_0: 2.185 W_1: 3.967\n",
      "Epoch 17: MSE: 0.2488 W_0: 2.198 W_1: 3.988\n",
      "Epoch 18: MSE: 0.2199 W_0: 2.209 W_1: 4.006\n",
      "Epoch 19: MSE: 0.1987 W_0: 2.219 W_1: 4.022\n",
      "Epoch 20: MSE: 0.1832 W_0: 2.227 W_1: 4.035\n",
      "Epoch 21: MSE: 0.1718 W_0: 2.234 W_1: 4.047\n",
      "Epoch 22: MSE: 0.1635 W_0: 2.24 W_1: 4.056\n",
      "Epoch 23: MSE: 0.1575 W_0: 2.246 W_1: 4.064\n",
      "Epoch 24: MSE: 0.153 W_0: 2.25 W_1: 4.071\n"
     ]
    }
   ],
   "source": [
    "for epoch in range(25):\n",
    "    y_predicted = predict(X_extended, W, is_preprocessed=True)\n",
    "    mse = torch.sum((y_predicted - y)**2)/y.numel()\n",
    "    d_w0_mean = torch.mean(2*(X_extended @ W - y))\n",
    "    d_w1_mean = torch.mean(2*(X_extended @ W - y) * X_extended[:, 1].reshape(-1, 1))\n",
    "    W[0] = W[0] - lr * d_w0_mean\n",
    "    W[1] = W[1] - lr * d_w1_mean\n",
    "    print(f'Epoch {epoch}: MSE: {mse:.4} W_0: {W.numpy()[0][0]:.4} W_1: {W.numpy()[1][0]:.4}')"
   ]
  },
  {
   "cell_type": "code",
   "execution_count": 38,
   "metadata": {},
   "outputs": [
    {
     "data": {
      "image/png": "[encoded data removed]",
      "text/plain": [
       "<Figure size 640x480 with 1 Axes>"
      ]
     },
     "metadata": {},
     "output_type": "display_data"
    }
   ],
   "source": [
    "plt.plot(X, y_predicted, \"r.\", label=\"Predictions\")\n",
    "plt.plot(X, y, \"b.\", label=\"Data\")\n",
    "\n",
    "plt.xlabel(\"$x_1$\")\n",
    "plt.ylabel(\"$y$\", rotation=0)\n",
    "plt.axis([0, 2, 0, 15])\n",
    "plt.grid()\n",
    "plt.legend(loc=\"upper left\")\n",
    "\n",
    "plt.show()"
   ]
  },
  {
   "attachments": {},
   "cell_type": "markdown",
   "metadata": {},
   "source": [
    "Optional Exercises for interested students: It might be interesting to see what happens if we change the learning rate. What happens if it is too large (e.g. equal to 1.0)?"
   ]
  },
  {
   "attachments": {},
   "cell_type": "markdown",
   "metadata": {},
   "source": [
    "### Note about Alternatives\n",
    "There are other ways to solve a linear regression problem. In fact, thee is an exact method, the [ordinary least squares](https://en.wikipedia.org/wiki/Ordinary_least_squares) (with computational limitations on the number of data instances). It can be useful to compare the result we got to the ideal one."
   ]
  },
  {
   "cell_type": "code",
   "execution_count": 40,
   "metadata": {},
   "outputs": [
    {
     "name": "stdout",
     "output_type": "stream",
     "text": [
      "tensor([[2.3978],\n",
      "        [4.0405]])\n",
      "torch.Size([2, 1])\n",
      "2\n"
     ]
    }
   ],
   "source": [
    "ideal_w = torch.inverse(X_extended.T @ X_extended) @ X_extended.T @ y\n",
    "print(ideal_w)\n",
    "print(ideal_w.shape)\n",
    "print(ideal_w.dim())"
   ]
  },
  {
   "attachments": {},
   "cell_type": "markdown",
   "metadata": {},
   "source": [
    "Exercises for interested students: \n",
    "1. Increase the number of data points from 4 to 20 or 100. Are there any code changes needed?\n",
    "2. Increase the dimensionality of the input data from 1D to 2D, such that each data point has two numbers, $x_1$ and $x_2$ as inputs. Graphically, this means that $y$ is plotted as a function of $(x_1, x_2)$ in 3D. What would be the regressor? A line? A 2D plane?"
   ]
  },
  {
   "cell_type": "markdown",
   "metadata": {},
   "source": []
  }
 ],
 "metadata": {
  "kernelspec": {
   "display_name": "pytorch_cpu",
   "language": "python",
   "name": "python3"
  },
  "language_info": {
   "codemirror_mode": {
    "name": "ipython",
    "version": 3
   },
   "file_extension": ".py",
   "mimetype": "text/x-python",
   "name": "python",
   "nbconvert_exporter": "python",
   "pygments_lexer": "ipython3",
   "version": "3.9.1"
  },
  "orig_nbformat": 4,
  "vscode": {
   "interpreter": {
    "hash": "ea445e1515f943d2885e4730ea69ace15b02c78ac5cd5be2a495018cd89fb42d"
   }
  }
 },
 "nbformat": 4,
 "nbformat_minor": 2
}
